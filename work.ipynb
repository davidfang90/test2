{
 "cells": [
  {
   "cell_type": "code",
   "execution_count": 41,
   "metadata": {
    "collapsed": false
   },
   "outputs": [
    {
     "name": "stdout",
     "output_type": "stream",
     "text": [
      "13\n",
      "0\n"
     ]
    }
   ],
   "source": [
    "#1.\t找出list中第k个最大，最小值。max(data, k)，min(data, k)函数，使用for语句\n",
    "\n",
    "import os\n",
    "#def compare1():\n",
    "#    i1 = max(listforcompare)\n",
    "#    j1 = min(listforcompare)\n",
    "#    print(i1,j1)\n",
    " #   print(listforcompare.index(i1),listforcompare.index(j1))\n",
    "    \n",
    "#if __name__ == \"__main__\":\n",
    " #   listforcompare = [1,2,3,4,5,2,4,8,9,13,4]\n",
    " #   compare1()\n",
    "#用for循环的方法，想了想没写出来\n",
    "#for item in listforcompare：\n",
    "#    if item。。。\n",
    "#我想遍历数组里每一个item进行相互比较，不知道怎么写\n",
    "\n",
    "def imax(arr):\n",
    "    max_num = 0\n",
    "    for a in arr:\n",
    "        if a > max_num:\n",
    "            max_num = a\n",
    "    return max_num\n",
    "\n",
    "def imin(arr):\n",
    "    min_arr = 0\n",
    "    for a in arr:\n",
    "        if a <= min_arr:\n",
    "            min_arr = a\n",
    "    return min_arr\n",
    "\n",
    "if __name__ == \"__main__\":\n",
    "    data = [1,0,3,4,5,2,4,8,9,13,4]\n",
    "    print(imax(data))\n",
    "    print(imin(data))\n",
    "    \n"
   ]
  },
  {
   "cell_type": "code",
   "execution_count": 30,
   "metadata": {
    "collapsed": false
   },
   "outputs": [
    {
     "name": "stdout",
     "output_type": "stream",
     "text": [
      "3234\n"
     ]
    }
   ],
   "source": [
    "a = [99,88,77,66,1234,2234,3234]\n",
    "b = 0\n",
    "for i in a:\n",
    "    if b < i:\n",
    "        b = i\n",
    "print(b)"
   ]
  },
  {
   "cell_type": "code",
   "execution_count": 19,
   "metadata": {
    "collapsed": false
   },
   "outputs": [
    {
     "name": "stdout",
     "output_type": "stream",
     "text": [
      "Help on built-in function max in module builtins:\n",
      "\n",
      "max(...)\n",
      "    max(iterable, *[, default=obj, key=func]) -> value\n",
      "    max(arg1, arg2, *args, *[, key=func]) -> value\n",
      "    \n",
      "    With a single iterable argument, return its biggest item. The\n",
      "    default keyword-only argument specifies an object to return if\n",
      "    the provided iterable is empty.\n",
      "    With two or more arguments, return the largest argument.\n",
      "\n"
     ]
    }
   ],
   "source": [
    "help(max)"
   ]
  },
  {
   "cell_type": "code",
   "execution_count": 58,
   "metadata": {
    "collapsed": false
   },
   "outputs": [
    {
     "name": "stdout",
     "output_type": "stream",
     "text": [
      "['n', 'i', 'h', 'a', 'o']\n"
     ]
    }
   ],
   "source": [
    "#2.\t将字符串中的 “hello”替换为”nihao”\n",
    "#str1 = \"hello\"\n",
    "#str2 = str1.replace(\"hello\",\"nihao\")\n",
    "#print(str2)\n",
    "str1 = \"hello\"\n",
    "str2 = \"nihao\"\n",
    "str1 = [i for i in str2]\n",
    "print(str1)\n",
    "\n",
    "#这个给点儿提示。。。\n",
    "\n",
    "    "
   ]
  },
  {
   "cell_type": "code",
   "execution_count": 55,
   "metadata": {
    "collapsed": false
   },
   "outputs": [
    {
     "ename": "SyntaxError",
     "evalue": "invalid character in identifier (<ipython-input-55-b0f4044f74b1>, line 1)",
     "output_type": "error",
     "traceback": [
      "\u001b[0;36m  File \u001b[0;32m\"<ipython-input-55-b0f4044f74b1>\"\u001b[0;36m, line \u001b[0;32m1\u001b[0m\n\u001b[0;31m    help（replace）\u001b[0m\n\u001b[0m                ^\u001b[0m\n\u001b[0;31mSyntaxError\u001b[0m\u001b[0;31m:\u001b[0m invalid character in identifier\n"
     ]
    }
   ],
   "source": [
    "help（replace）\n"
   ]
  },
  {
   "cell_type": "code",
   "execution_count": 41,
   "metadata": {
    "collapsed": false
   },
   "outputs": [
    {
     "name": "stdout",
     "output_type": "stream",
     "text": [
      "[[1, 2, 3], [4, 5, 6]]\n",
      "[[1 5 4]\n",
      " [3 2 6]]\n"
     ]
    }
   ],
   "source": [
    "#用list表示二维矩阵,并修改\n",
    "import numpy as np\n",
    "matrix = [[1,2,3],[4,5,6]]\n",
    "print(matrix)\n",
    "a = np.array([[1,2,3],[4,5,6]])\n",
    "a[0][1]=5\n",
    "a[0][2]=4\n",
    "a[1][0]=3\n",
    "a[1][1]=2\n",
    "print(a)\n",
    "#我用了最笨的方法。。。"
   ]
  },
  {
   "cell_type": "code",
   "execution_count": 1,
   "metadata": {
    "collapsed": false,
    "scrolled": true
   },
   "outputs": [
    {
     "name": "stdout",
     "output_type": "stream",
     "text": [
      "1 2 3\n",
      "1 2 4\n",
      "1 3 2\n",
      "1 3 4\n",
      "1 4 2\n",
      "1 4 3\n",
      "2 1 3\n",
      "2 1 4\n",
      "2 3 1\n",
      "2 3 4\n",
      "2 4 1\n",
      "2 4 3\n",
      "3 1 2\n",
      "3 1 4\n",
      "3 2 1\n",
      "3 2 4\n",
      "3 4 1\n",
      "3 4 2\n",
      "4 1 2\n",
      "4 1 3\n",
      "4 2 1\n",
      "4 2 3\n",
      "4 3 1\n",
      "4 3 2\n",
      "24\n"
     ]
    }
   ],
   "source": [
    "#四个数字：1、2、3、4，能组成多少个互不相同且无重复数字的三位数？\n",
    "#各是多少？\n",
    "count=0\n",
    "list1 = [1,2,3,4]\n",
    "for i in list1:\n",
    "    for j in list1:\n",
    "        for k in list1:\n",
    "            if(i!=j)and(j!=k)and(i!=k):\n",
    "                print(i,j,k)\n",
    "                count+=1\n",
    "print(count)\n",
    "#计数的这个不知道怎么写\n",
    "            \n",
    "            "
   ]
  },
  {
   "cell_type": "code",
   "execution_count": 81,
   "metadata": {
    "collapsed": false
   },
   "outputs": [
    {
     "name": "stdout",
     "output_type": "stream",
     "text": [
      "[[1 2 3]\n",
      " [4 5 6]] [[7 8]\n",
      " [1 2]\n",
      " [3 4]]\n",
      "[[18 24]\n",
      " [51 66]]\n"
     ]
    }
   ],
   "source": [
    "#5二维矩阵乘法实现：multi(A, B)\n",
    "import numpy as np\n",
    "a = np.array([[1,2,3],[4,5,6]])\n",
    "b = np.array([[7,8],[1,2],[3,4]])\n",
    "c = np.dot(a,b)\n",
    "print(a,b)\n",
    "print(c)"
   ]
  },
  {
   "cell_type": "code",
   "execution_count": 99,
   "metadata": {
    "collapsed": false
   },
   "outputs": [
    {
     "ename": "TypeError",
     "evalue": "int() argument must be a string, a bytes-like object or a number, not 'list'",
     "output_type": "error",
     "traceback": [
      "\u001b[0;31m---------------------------------------------------------------------------\u001b[0m",
      "\u001b[0;31mTypeError\u001b[0m                                 Traceback (most recent call last)",
      "\u001b[0;32m<ipython-input-99-98d4ac5ef103>\u001b[0m in \u001b[0;36m<module>\u001b[0;34m()\u001b[0m\n\u001b[1;32m      4\u001b[0m \u001b[1;32mwith\u001b[0m \u001b[0mopen\u001b[0m\u001b[1;33m(\u001b[0m\u001b[1;34m\"F:\\\\ybclass\\\\first\\\\data1-1.csv\"\u001b[0m\u001b[1;33m)\u001b[0m \u001b[1;32mas\u001b[0m \u001b[0mfile\u001b[0m\u001b[1;33m:\u001b[0m\u001b[1;33m\u001b[0m\u001b[0m\n\u001b[1;32m      5\u001b[0m     \u001b[0mreader\u001b[0m \u001b[1;33m=\u001b[0m \u001b[0mcsv\u001b[0m\u001b[1;33m.\u001b[0m\u001b[0mreader\u001b[0m\u001b[1;33m(\u001b[0m\u001b[0mfile\u001b[0m\u001b[1;33m)\u001b[0m\u001b[1;33m\u001b[0m\u001b[0m\n\u001b[0;32m----> 6\u001b[0;31m     \u001b[0mrows\u001b[0m \u001b[1;33m=\u001b[0m \u001b[1;33m[\u001b[0m\u001b[0mint\u001b[0m\u001b[1;33m(\u001b[0m\u001b[0mrow\u001b[0m\u001b[1;33m)\u001b[0m \u001b[1;32mfor\u001b[0m \u001b[0mrow\u001b[0m \u001b[1;32min\u001b[0m \u001b[0mreader\u001b[0m\u001b[1;33m]\u001b[0m\u001b[1;33m\u001b[0m\u001b[0m\n\u001b[0m\u001b[1;32m      7\u001b[0m     \u001b[0mprint\u001b[0m\u001b[1;33m(\u001b[0m\u001b[0mrows\u001b[0m\u001b[1;33m)\u001b[0m\u001b[1;33m\u001b[0m\u001b[0m\n\u001b[1;32m      8\u001b[0m \u001b[0mdata\u001b[0m \u001b[1;33m=\u001b[0m \u001b[1;33m[\u001b[0m\u001b[1;33m]\u001b[0m\u001b[1;33m\u001b[0m\u001b[0m\n",
      "\u001b[0;32m<ipython-input-99-98d4ac5ef103>\u001b[0m in \u001b[0;36m<listcomp>\u001b[0;34m(.0)\u001b[0m\n\u001b[1;32m      4\u001b[0m \u001b[1;32mwith\u001b[0m \u001b[0mopen\u001b[0m\u001b[1;33m(\u001b[0m\u001b[1;34m\"F:\\\\ybclass\\\\first\\\\data1-1.csv\"\u001b[0m\u001b[1;33m)\u001b[0m \u001b[1;32mas\u001b[0m \u001b[0mfile\u001b[0m\u001b[1;33m:\u001b[0m\u001b[1;33m\u001b[0m\u001b[0m\n\u001b[1;32m      5\u001b[0m     \u001b[0mreader\u001b[0m \u001b[1;33m=\u001b[0m \u001b[0mcsv\u001b[0m\u001b[1;33m.\u001b[0m\u001b[0mreader\u001b[0m\u001b[1;33m(\u001b[0m\u001b[0mfile\u001b[0m\u001b[1;33m)\u001b[0m\u001b[1;33m\u001b[0m\u001b[0m\n\u001b[0;32m----> 6\u001b[0;31m     \u001b[0mrows\u001b[0m \u001b[1;33m=\u001b[0m \u001b[1;33m[\u001b[0m\u001b[0mint\u001b[0m\u001b[1;33m(\u001b[0m\u001b[0mrow\u001b[0m\u001b[1;33m)\u001b[0m \u001b[1;32mfor\u001b[0m \u001b[0mrow\u001b[0m \u001b[1;32min\u001b[0m \u001b[0mreader\u001b[0m\u001b[1;33m]\u001b[0m\u001b[1;33m\u001b[0m\u001b[0m\n\u001b[0m\u001b[1;32m      7\u001b[0m     \u001b[0mprint\u001b[0m\u001b[1;33m(\u001b[0m\u001b[0mrows\u001b[0m\u001b[1;33m)\u001b[0m\u001b[1;33m\u001b[0m\u001b[0m\n\u001b[1;32m      8\u001b[0m \u001b[0mdata\u001b[0m \u001b[1;33m=\u001b[0m \u001b[1;33m[\u001b[0m\u001b[1;33m]\u001b[0m\u001b[1;33m\u001b[0m\u001b[0m\n",
      "\u001b[0;31mTypeError\u001b[0m: int() argument must be a string, a bytes-like object or a number, not 'list'"
     ]
    }
   ],
   "source": [
    "#将data1-1，data1-2中的数据读出，转换成整型数据，\n",
    "#作为两个二维矩阵A,B，显示\n",
    "import csv\n",
    "with open(\"F:\\\\ybclass\\\\first\\\\data1-1.csv\") as file:\n",
    "    reader = csv.reader(file)\n",
    "    rows = [int(row) for row in reader]\n",
    "    print(rows)\n",
    "data = []\n",
    "for l in open(\"F:\\\\ybclass\\\\first\\\\data1-2.txt\"):\n",
    "    row1 = [int(x) for x in l.split()]\n",
    "    if len(row1) > 0:\n",
    "        data.append(row1)\n",
    "#读出来是字符串，转化成整型时报错"
   ]
  },
  {
   "cell_type": "code",
   "execution_count": 7,
   "metadata": {
    "collapsed": false
   },
   "outputs": [
    {
     "name": "stdout",
     "output_type": "stream",
     "text": [
      "   11   12   13  14\n",
      "0  21    22  23  24\n",
      "1  31    32  33  34\n",
      "2  41    42  43  44\n",
      "          51,52,53,54\n",
      "0  61, 62,  63  ,  64\n",
      "1   71,72, 73,74     \n",
      "2      81,82,83,84   \n",
      "[[ 11.  12.  13.  14.]\n",
      " [ 21.  22.  23.  24.]\n",
      " [ 31.  32.  33.  34.]\n",
      " [ 41.  42.  43.  44.]]\n",
      "[[ 51.  52.  53.  54.]\n",
      " [ 61.  62.  63.  64.]\n",
      " [ 71.  72.  73.  74.]\n",
      " [ 81.  82.  83.  84.]]\n",
      "[[  3350.   3400.   3450.   3500.]\n",
      " [  5990.   6080.   6170.   6260.]\n",
      " [  8630.   8760.   8890.   9020.]\n",
      " [ 11270.  11440.  11610.  11780.]]\n"
     ]
    }
   ],
   "source": [
    "#还是上面那一题，发现了一个好用的库。。。\n",
    "import pandas as pd\n",
    "import numpy as np\n",
    "a = pd.read_csv(\"F:\\\\ybclass\\\\first\\\\data1-1.csv\")\n",
    "print(a)\n",
    "b = pd.read_table(\"F:\\\\ybclass\\\\first\\\\data1-2.txt\")\n",
    "print(b)\n",
    " \n",
    "A = np.loadtxt(open(\"F:\\\\ybclass\\\\first\\\\data1-1.csv\",\"rb\"),delimiter=\",\",skiprows=0)\n",
    "B = np.loadtxt(open(\"F:\\\\ybclass\\\\first\\\\data1-2.txt\",\"rb\"),delimiter=\",\",skiprows=0)\n",
    "print(A)\n",
    "print(B)\n",
    "print(np.dot(A,B))\n",
    "#最后还是numpy好用\n"
   ]
  },
  {
   "cell_type": "code",
   "execution_count": 30,
   "metadata": {
    "collapsed": false
   },
   "outputs": [
    {
     "name": "stdout",
     "output_type": "stream",
     "text": [
      "3\n",
      "[1 1 1]\n",
      "[[1 1 1]\n",
      " [1 2 3]]\n",
      "[[1 2]\n",
      " [4 5]\n",
      " [3 6]]\n",
      "[[ 8 13]\n",
      " [18 30]]\n"
     ]
    }
   ],
   "source": [
    "#想弄明白数组和矩阵的区别。。\n",
    "import numpy as np\n",
    "a1 = np.array([1,1,1])\n",
    "m1 = np.mat([[1,1,1],[1,2,3]])\n",
    "#取矩阵中的元素只能用m1[1,2]\n",
    "print(m1[1,2])\n",
    "#将列表转换成矩阵\n",
    "list1 = [[1,2],[4,5],[3,6]]\n",
    "m2 = np.mat(list1)\n",
    "m3 = np.dot(m1,m2)\n",
    "#m3 = np.multiply(m1,m2) 这样乘起来报错，而用numpy里的点乘就可以\n",
    "#为什么矩阵m1和m2不能相乘\n",
    "print(a1)\n",
    "print(m1)\n",
    "print(m2)\n",
    "print(m3)"
   ]
  },
  {
   "cell_type": "code",
   "execution_count": 56,
   "metadata": {
    "collapsed": false
   },
   "outputs": [
    {
     "name": "stdout",
     "output_type": "stream",
     "text": [
      "[[ 11.  12.  13.  14.]\n",
      " [ 21.  22.  23.  24.]\n",
      " [ 31.  32.  33.  34.]\n",
      " [ 41.  42.  43.  44.]]\n",
      "[[ 11.  13.  14.]\n",
      " [ 21.  23.  24.]\n",
      " [ 31.  33.  34.]\n",
      " [ 41.  43.  44.]]\n",
      "[[ 51.  52.  54.]\n",
      " [ 61.  62.  64.]\n",
      " [ 71.  72.  74.]\n",
      " [ 81.  82.  84.]]\n",
      "[[  62.   65.   68.]\n",
      " [  82.   85.   88.]\n",
      " [ 102.  105.  108.]\n",
      " [ 122.  125.  128.]]\n",
      "[[ 0.  0.  0.]\n",
      " [ 0.  0.  0.]\n",
      " [ 0.  0.  0.]\n",
      " [ 0.  0.  0.]\n",
      " [ 0.  0.  0.]\n",
      " [ 0.  0.  0.]\n",
      " [ 0.  0.  0.]\n",
      " [ 0.  0.  0.]]\n",
      "[[  62.   65.]\n",
      " [  82.   85.]\n",
      " [ 102.  105.]\n",
      " [ 122.  125.]]\n"
     ]
    }
   ],
   "source": [
    "#回到矩阵A和B上。\n",
    "#newarray=delete(array,obg,axis)，obg是所要删除的行或列\n",
    "#axis是要删除的维度，0表示行，1表示列（对于二维数组来说）\n",
    "import numpy as np\n",
    "A = np.loadtxt(open(\"F:\\\\ybclass\\\\first\\\\data1-1.csv\",\"rb\"),delimiter=\",\",skiprows=0)\n",
    "B = np.loadtxt(open(\"F:\\\\ybclass\\\\first\\\\data1-2.txt\",\"rb\"),delimiter=\",\",skiprows=0)\n",
    "A1 = np.delete(A,1,1)\n",
    "B1 = np.delete(B,2,1)\n",
    "C1 = A1 + B1\n",
    "D = np.zeros([8,3])\n",
    "print(A)\n",
    "print(A1)\n",
    "print(B1)\n",
    "print(C1)\n",
    "print(D)\n",
    "#我觉得应该可以用一个循环将两个矩阵竖着叠加，我不太会写\n",
    "Y = C1[:,2]\n",
    "X = np.delete(C1,2,1)\n",
    "print(X)\n"
   ]
  },
  {
   "cell_type": "code",
   "execution_count": 73,
   "metadata": {
    "collapsed": false
   },
   "outputs": [
    {
     "name": "stdout",
     "output_type": "stream",
     "text": [
      "[[ 3  5  7]\n",
      " [11 13 15]]\n",
      "[[22 28]\n",
      " [49 64]]\n"
     ]
    },
    {
     "ename": "AttributeError",
     "evalue": "module 'numpy' has no attribute 'minus'",
     "output_type": "error",
     "traceback": [
      "\u001b[0;31m---------------------------------------------------------------------------\u001b[0m",
      "\u001b[0;31mAttributeError\u001b[0m                            Traceback (most recent call last)",
      "\u001b[0;32m<ipython-input-73-37aa49a2b46d>\u001b[0m in \u001b[0;36m<module>\u001b[0;34m()\u001b[0m\n\u001b[1;32m     23\u001b[0m     \u001b[0mA_add_B\u001b[0m \u001b[1;33m=\u001b[0m \u001b[0mMatrix_cal\u001b[0m\u001b[1;33m.\u001b[0m\u001b[0mmatrix_add\u001b[0m\u001b[1;33m(\u001b[0m\u001b[0mA\u001b[0m\u001b[1;33m,\u001b[0m\u001b[0mB\u001b[0m\u001b[1;33m)\u001b[0m\u001b[1;33m\u001b[0m\u001b[0m\n\u001b[1;32m     24\u001b[0m     \u001b[0mA_dot_B\u001b[0m \u001b[1;33m=\u001b[0m \u001b[0mMatrix_cal\u001b[0m\u001b[1;33m.\u001b[0m\u001b[0mmatrix_dot\u001b[0m\u001b[1;33m(\u001b[0m\u001b[0mA\u001b[0m\u001b[1;33m,\u001b[0m\u001b[0mC\u001b[0m\u001b[1;33m)\u001b[0m\u001b[1;33m\u001b[0m\u001b[0m\n\u001b[0;32m---> 25\u001b[0;31m     \u001b[0mA_minus_B\u001b[0m \u001b[1;33m=\u001b[0m \u001b[0mMatrix_cal\u001b[0m\u001b[1;33m.\u001b[0m\u001b[0mmatrix_minus\u001b[0m\u001b[1;33m(\u001b[0m\u001b[0mA\u001b[0m\u001b[1;33m,\u001b[0m\u001b[0mB\u001b[0m\u001b[1;33m)\u001b[0m\u001b[1;33m\u001b[0m\u001b[0m\n\u001b[0m",
      "\u001b[0;32m<ipython-input-73-37aa49a2b46d>\u001b[0m in \u001b[0;36mmatrix_minus\u001b[0;34m(matrix_A, matrix_B)\u001b[0m\n\u001b[1;32m     15\u001b[0m         \u001b[0mprint\u001b[0m\u001b[1;33m(\u001b[0m\u001b[0mC\u001b[0m\u001b[1;33m)\u001b[0m\u001b[1;33m\u001b[0m\u001b[0m\n\u001b[1;32m     16\u001b[0m     \u001b[1;32mdef\u001b[0m \u001b[0mmatrix_minus\u001b[0m\u001b[1;33m(\u001b[0m\u001b[0mmatrix_A\u001b[0m\u001b[1;33m,\u001b[0m\u001b[0mmatrix_B\u001b[0m\u001b[1;33m)\u001b[0m\u001b[1;33m:\u001b[0m\u001b[1;33m\u001b[0m\u001b[0m\n\u001b[0;32m---> 17\u001b[0;31m         \u001b[0mC\u001b[0m \u001b[1;33m=\u001b[0m \u001b[0mnp\u001b[0m\u001b[1;33m.\u001b[0m\u001b[0mminus\u001b[0m\u001b[1;33m(\u001b[0m\u001b[0mmatrix_A\u001b[0m\u001b[1;33m,\u001b[0m\u001b[0mmatrix_B\u001b[0m\u001b[1;33m)\u001b[0m\u001b[1;33m\u001b[0m\u001b[0m\n\u001b[0m\u001b[1;32m     18\u001b[0m \u001b[1;33m\u001b[0m\u001b[0m\n\u001b[1;32m     19\u001b[0m \u001b[1;32mif\u001b[0m \u001b[0m__name__\u001b[0m \u001b[1;33m==\u001b[0m \u001b[1;34m\"__main__\"\u001b[0m\u001b[1;33m:\u001b[0m\u001b[1;33m\u001b[0m\u001b[0m\n",
      "\u001b[0;31mAttributeError\u001b[0m: module 'numpy' has no attribute 'minus'"
     ]
    }
   ],
   "source": [
    "#11.实现一个Class，用于计算矩阵的加法、减法、乘法\n",
    "import os\n",
    "import numpy as np\n",
    "\n",
    "class Matrix_cal(object):\n",
    "    def __init__(self,matrix_A,matrix_B):\n",
    "        self.matrix_A = matrix_A\n",
    "        self.matrix_B = matrix_B\n",
    "    \n",
    "    def matrix_add(matrix_A,matrix_B):\n",
    "        C = np.add(matrix_A,matrix_B)\n",
    "        print(C)\n",
    "    def matrix_dot(matrix_A,matrix_B):\n",
    "        C = np.dot(matrix_A,matrix_B)\n",
    "        print(C)\n",
    "    def matrix_minus(matrix_A,matrix_B):\n",
    "        C = np.minus(matrix_A,matrix_B)\n",
    "        \n",
    "if __name__ == \"__main__\":\n",
    "    A = [[1,2,3],[4,5,6]]\n",
    "    B = [[2,3,4],[7,8,9]]\n",
    "    C = [[1,2],[3,4],[5,6]]\n",
    "    A_add_B = Matrix_cal.matrix_add(A,B)\n",
    "    A_dot_B = Matrix_cal.matrix_dot(A,C)\n",
    "    A_minus_B = Matrix_cal.matrix_minus(A,B)"
   ]
  },
  {
   "cell_type": "code",
   "execution_count": null,
   "metadata": {
    "collapsed": true
   },
   "outputs": [],
   "source": []
  }
 ],
 "metadata": {
  "anaconda-cloud": {},
  "kernelspec": {
   "display_name": "Python [default]",
   "language": "python",
   "name": "python3"
  },
  "language_info": {
   "codemirror_mode": {
    "name": "ipython",
    "version": 3
   },
   "file_extension": ".py",
   "mimetype": "text/x-python",
   "name": "python",
   "nbconvert_exporter": "python",
   "pygments_lexer": "ipython3",
   "version": "3.5.2"
  }
 },
 "nbformat": 4,
 "nbformat_minor": 1
}
